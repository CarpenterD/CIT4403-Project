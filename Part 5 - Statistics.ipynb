{
 "cells": [
  {
   "cell_type": "markdown",
   "metadata": {},
   "source": [
    "# Part 5 - Statistics\n",
    "\n",
    "This section aims to calculate metrics described in the paper using our dataset.\n",
    "\n",
    "### Imports, Declarations & Setup"
   ]
  },
  {
   "cell_type": "code",
   "execution_count": null,
   "metadata": {},
   "outputs": [],
   "source": [
    "from matplotlib import pyplot as plt\n",
    "from scipy import stats\n",
    "import numpy as np\n",
    "import csv\n",
    "import json\n",
    "import random\n",
    "import itertools\n",
    "\n",
    "random.seed(\"seeeeeeeed\")\n",
    "\n",
    "RECIPE_PATH = \"data/no-overlap/\"\n",
    "RUSSIAN_RECIPE_PATHS = [RECIPE_PATH + \"noOverlapRecipes.csv\"]\n",
    "WORLD_RECIPE_PATHS = [RECIPE_PATH + \"paperNoOverlapRecipes.csv\"]\n",
    "\n",
    "CATEGORY_MAP_PATH = \"data/subCategoryMap.json\"\n",
    "INGREDIENT_MAP_PATH = \"data/notebook-3-data/ingredientMap (preprocessed_to_foodb).json\"\n",
    "COMPOUNDS_PATH = \"data/compounds/compounds.json\""
   ]
  },
  {
   "cell_type": "markdown",
   "metadata": {},
   "source": [
    "##### Load Dataset"
   ]
  },
  {
   "cell_type": "code",
   "execution_count": null,
   "metadata": {},
   "outputs": [],
   "source": [
    "#load ingredient map\n",
    "ingredientMap = {}\n",
    "with open(INGREDIENT_MAP_PATH) as mapFile:\n",
    "    ingredientMap = json.load(mapFile)"
   ]
  },
  {
   "cell_type": "code",
   "execution_count": null,
   "metadata": {},
   "outputs": [],
   "source": [
    "#load category map\n",
    "categoryMap = {}\n",
    "with open(CATEGORY_MAP_PATH) as catMapFile:\n",
    "    categoryMap = json.load(catMapFile)"
   ]
  },
  {
   "cell_type": "code",
   "execution_count": null,
   "metadata": {},
   "outputs": [],
   "source": [
    "def loadRecipes(cuisine, recipe_paths):\n",
    "    print(\"Loading: \", cuisine)\n",
    "    #load recipes\n",
    "    recipes = []\n",
    "    categoryRecipes = []\n",
    "    categoryComponents = dict()\n",
    "    ingrFreq = dict()\n",
    "    categoryFreq = dict()\n",
    "    totalIngredientsUsed = 0\n",
    "\n",
    "    for path in recipe_paths:\n",
    "        with open(path) as file:\n",
    "            count = 0\n",
    "            reader = csv.reader(file)\n",
    "            for row in reader:\n",
    "                if row[0] not in cuisine:\n",
    "                    continue\n",
    "                count += 1\n",
    "                # Get Recipes\n",
    "                recipes.append({\"name\": row[0], \"ingredients\": row[1:]})\n",
    "                for ingredient in row[1:]:\n",
    "                    totalIngredientsUsed += 1\n",
    "                    # Get Ingredient List and Ingredient Frequency\n",
    "                    if ingredient not in ingrFreq:\n",
    "                        ingrFreq[ingredient] = 1\n",
    "                    else:\n",
    "                        ingrFreq[ingredient] += 1\n",
    "                    # Get Category List and Category Frequency\n",
    "                    category = categoryMap[ingredient]\n",
    "                    if category not in categoryFreq:\n",
    "                        categoryFreq[category] = 1\n",
    "                    else:\n",
    "                        categoryFreq[category] += 1\n",
    "                    # Construct Category to Category Components Mapping\n",
    "                    if category not in categoryComponents:\n",
    "                        categoryComponents[category] = set([ingredient])\n",
    "                    else:\n",
    "                        categoryComponents[category].add(ingredient)\n",
    "                # Get Categories Recipe\n",
    "                categoryRecipe = [categoryMap[ingredient] for ingredient in row[1:]]\n",
    "                categoryRecipes.append({\"name\": row[0], \"ingredients\": categoryRecipe})\n",
    "            print(\"Loaded {} recipes (\\\"{}\\\")\".format(count, path))\n",
    "    print(\"{} total recipes\\n\".format(len(recipes)))\n",
    "\n",
    "    print(\"Sample Recipes:\")\n",
    "    print(recipes[0])\n",
    "    print(recipes[-1])\n",
    "    print()\n",
    "    print()\n",
    "    \n",
    "    return recipes, categoryRecipes, categoryComponents, \\\n",
    "        ingrFreq, categoryFreq, totalIngredientsUsed\n",
    "\n",
    "# Load Recipes\n",
    "world_cuisine_list = [\"NorthAmerican\", \"WesternEuropean\", \"LatinAmerican\", \"SouthernEuropean\", \"EastAsian\"]\n",
    "cuisine_recipes = {cuisine_name: loadRecipes([cuisine_name], WORLD_RECIPE_PATHS) for cuisine_name in world_cuisine_list}\n",
    "cuisine_recipes[\"Russian\"] = loadRecipes([\"EasternEuropean\",\"Russian\"], RUSSIAN_RECIPE_PATHS)"
   ]
  },
  {
   "cell_type": "markdown",
   "metadata": {},
   "source": [
    "### Number of Ingredients"
   ]
  },
  {
   "cell_type": "code",
   "execution_count": null,
   "metadata": {},
   "outputs": [],
   "source": [
    "def numIngredients(figure_title, recipes):\n",
    "    numIngredients = [len(recipe[\"ingredients\"]) for recipe in recipes]\n",
    "\n",
    "    ingredientCountMean = stats.tmean(numIngredients)\n",
    "    ingredientCountStdDev = stats.tstd(numIngredients)\n",
    "\n",
    "    skewness,loc,scale = stats.skewnorm.fit(numIngredients)\n",
    "    x = np.linspace(stats.skewnorm.ppf(0.001, skewness, loc=loc, scale=scale), stats.skewnorm.ppf(0.999, skewness, loc=loc, scale=scale), 100)\n",
    "    plt.plot(x, len(recipes)*stats.skewnorm.pdf(x, skewness, loc=loc, scale=scale), c=\"#333333\", ls=\"--\", lw=2, label='skewnormal approximation')\n",
    "\n",
    "    plt.title(figure_title)\n",
    "    plt.xlabel(\"Ingredient Count\")\n",
    "    plt.ylabel(\"Occurances\")\n",
    "    plt.hist(numIngredients, bins=max(numIngredients), color=\"#2e8b57\")\n",
    "    plt.vlines(ingredientCountMean, 0, plt.gca().get_ylim()[1], colors=\"r\", label=\"Mean\")\n",
    "    plt.legend()\n",
    "    plt.show()\n",
    "\n",
    "    print(\"mean={}\".format(ingredientCountMean))\n",
    "    print(\"stddev={}\".format(ingredientCountStdDev))\n",
    "    print(\"range=({}, {})\".format(min(numIngredients), max(numIngredients)))\n",
    "    print(\"skew-normal distribution= (alpha={}, loc={}, scale={})\\n\".format(skewness,loc,scale))\n",
    "    \n",
    "    return skewness,loc,scale\n",
    "\n",
    "# data[0] contains Recipes\n",
    "figure_title = \"Ingredient Distribution of %s Cuisine:\"\n",
    "ingredient_distribution = [numIngredients(figure_title % (cuisine_name),data[0])\n",
    "                           for cuisine_name, data in cuisine_recipes.items()]"
   ]
  },
  {
   "cell_type": "markdown",
   "metadata": {},
   "source": [
    "### Generate Random Recipe Set\n",
    "These are used to determine the statistical significance of a cuisines mean number of shared recipe components $\\Delta N_s$.\n",
    "\n",
    "We are using four *null models* (methods of randomly generating recipes):\n",
    "\n",
    "- **Uniform Random**: All ingredients are equally likely to be chosen. Common ingredients will tend to be chosen less than in real datasets and rare ingredients more often.\n",
    "- **Frequency Conserving**: Ingredients will be randomly chosen with frequencies that approximate real ingredient usage.\n",
    "- **Uniform Random + Category Preservation**: Ingredients will be chosen randomly but within a specific category; for example a recipe may have one random meat and three random vegetable ingredients.\n",
    "- **Frequency Conserving + Category Preservation**: Like the above, ingredient categories are preserved but ingredients within those categories are chosen with frequencies matching their real distribution."
   ]
  },
  {
   "cell_type": "code",
   "execution_count": null,
   "metadata": {},
   "outputs": [],
   "source": [
    "INGREDIENTS_PATH = \"../../data/ingredient-mapping/ingredients.json\"\n",
    "RANDOM_RECIPE_COUNT = 1000\n",
    "   \n",
    "# Define Function to Determine Number of Recipe's Component Ingredients\n",
    "def drawNumIngredients(skewness,loc,scale):\n",
    "    return max(1, int(stats.skewnorm.rvs(skewness, loc=loc, scale=scale)))\n",
    "\n",
    "def generateRandomRecipes(recipes, categoryRecipes, categoryComponents, ingrFreq,\n",
    "                          categoryFreq, totalIngredientsUsed, skewness, loc, scale):\n",
    "    ## Get Ingredient List, Ingredient Frequency Proportion\n",
    "    categoryIngredients = dict()\n",
    "    categoryIngredientsProportion = dict()\n",
    "    ingredients = []\n",
    "    ingredientProportion = []\n",
    "    for ingr, freq in ingrFreq.items():\n",
    "        ingredients.append(ingr)\n",
    "        ingredientProportion.append(freq/totalIngredientsUsed)\n",
    "        category = categoryMap[ingr]\n",
    "        if category not in categoryIngredients:\n",
    "            categoryIngredients[category] = [ingr]\n",
    "            categoryIngredientsProportion[category] = [freq/categoryFreq[category]]\n",
    "        else:\n",
    "            categoryIngredients[category].append(ingr)\n",
    "            categoryIngredientsProportion[category].append(freq/categoryFreq[category])\n",
    "\n",
    "    ## Generate Random Recipe Sets as Null Model\n",
    "\n",
    "    # Ingredient Frequency Conserving\n",
    "    randomRecipesWeighted = [{\"name\":\"random{:04d}\".format(num), \n",
    "                      \"ingredients\": np.random.choice(ingredients,size=drawNumIngredients(skewness,loc,scale), \n",
    "                                                      replace=False, p=ingredientProportion)\n",
    "                     } for num in range(RANDOM_RECIPE_COUNT)]\n",
    "\n",
    "    # Ingredient Frequency and Ingredient Category Preserving\n",
    "    randomRecipesWeightedCategories = [{\"name\": recipe[\"name\"],\n",
    "                      \"ingredients\": [np.random.choice(categoryIngredients[categoryMap[ingredient]],\n",
    "                                                       size=None,replace=False,\n",
    "                                                       p=categoryIngredientsProportion[categoryMap[ingredient]])\n",
    "                                for ingredient in recipe[\"ingredients\"]]\n",
    "                     } for recipe in recipes]\n",
    "\n",
    "    # Uniform Random\n",
    "    randomRecipes = [{\"name\":\"random{:04d}\".format(num), \n",
    "                      \"ingredients\": np.random.choice(ingredients,size=drawNumIngredients(skewness,loc,scale), \n",
    "                                                      replace=False)\n",
    "                     } for num in range(RANDOM_RECIPE_COUNT)]\n",
    "\n",
    "    # Uniform Random, Ingredient Category Preserving\n",
    "    randomRecipesCategories = [{\"name\": recipe[\"name\"],\n",
    "                      \"ingredients\": [np.random.choice(categoryIngredients[categoryMap[ingredient]],\n",
    "                                                       size=None,replace=False)\n",
    "                                for ingredient in recipe[\"ingredients\"]]\n",
    "                     } for recipe in recipes]\n",
    "    \n",
    "    return randomRecipesWeighted, randomRecipesWeightedCategories, randomRecipes, randomRecipesCategories\n",
    "\n",
    "null_models = [generateRandomRecipes(recipes, categoryRecipes, categoryComponents, ingrFreq,\n",
    "                          categoryFreq, totalIngredientsUsed, ingredient_distribution[cuisine_idx][0],\n",
    "                                     ingredient_distribution[cuisine_idx][1], ingredient_distribution[cuisine_idx][2])\n",
    "               for cuisine_idx, (recipes, categoryRecipes, categoryComponents, ingrFreq,\n",
    "                          categoryFreq, totalIngredientsUsed) in enumerate(cuisine_recipes.values())]\n",
    "model_names = [\"Ingredient Frequency Conserving\", \"Ingredient Frequency and Ingredient Category Preserving\",\n",
    "              \"Uniform Random\", \"Uniform Random and Ingredient Category Preserving\"]"
   ]
  },
  {
   "cell_type": "code",
   "execution_count": null,
   "metadata": {},
   "outputs": [],
   "source": [
    "figure_title = \"Ingredient Distribution Null Model of %s on %s Cuisine:\"\n",
    "\n",
    "for cuisine_index, cuisine_name in enumerate(cuisine_recipes.keys()):\n",
    "    for model_index, model in enumerate(null_models[cuisine_index]):\n",
    "        numIngredients(figure_title % (model_names[model_index],cuisine_name), model)"
   ]
  },
  {
   "cell_type": "markdown",
   "metadata": {},
   "source": [
    "### Number of Shared Compounds\n",
    "Determines the mean number of shared compounds, $N_s$ for a recipe $R$ that contains $n_R$ unique ingredients, such that each ingredient $i$ has a set of compounds $C_i$. Formula taken from paper is:\n",
    "\n",
    "$$ N_s(R)=\\frac{2}{n_R(n_R-1)} \\sum_{i,j \\in R, i \\ne j} |C_i \\cap C_j| $$"
   ]
  },
  {
   "cell_type": "code",
   "execution_count": null,
   "metadata": {},
   "outputs": [],
   "source": [
    "# a dictionary of {ingredientName: listOfCompounds}\n",
    "compoundMap = {}\n",
    "\n",
    "with open(COMPOUNDS_PATH) as compoundFile:\n",
    "    compoundMap = json.load(compoundFile) # WARNING! This file is 150 MB"
   ]
  },
  {
   "cell_type": "code",
   "execution_count": null,
   "metadata": {},
   "outputs": [],
   "source": [
    "# Memoize Shared Compounds for Faster Computation\n",
    "shared_compounds = dict()\n",
    "\n",
    "# Calculates number of shared components\n",
    "def nsc(ingredients, compounds):\n",
    "    if len(ingredients) == 1:\n",
    "        return 0\n",
    "    \n",
    "    numShared = 0\n",
    "    for index, ingr1 in enumerate(ingredients):\n",
    "        for ingr2 in ingredients[index+1:]:\n",
    "            if ingr1 != ingr2 and ingr1 in compounds and ingr2 in compounds:\n",
    "                if not (ingr1,ingr2) in shared_compounds:\n",
    "                    shared_compounds[(ingr1,ingr2)] = len(set(compounds[ingr1]).intersection(compounds[ingr2]))\n",
    "                numShared += shared_compounds[(ingr1,ingr2)]\n",
    "                \n",
    "    return 2*numShared / ( len(ingredients)*(len(ingredients)-1) )"
   ]
  },
  {
   "cell_type": "markdown",
   "metadata": {},
   "source": [
    "Lets calculate the number of shared compounds of some pairs of ingredients:"
   ]
  },
  {
   "cell_type": "code",
   "execution_count": null,
   "metadata": {},
   "outputs": [],
   "source": [
    "nsc([\"Shrimp\", \"Lemon\"], compoundMap)"
   ]
  },
  {
   "cell_type": "code",
   "execution_count": null,
   "metadata": {},
   "outputs": [],
   "source": [
    "nsc([\"Cattle (Beef, Veal)\", \"Arabica coffee\"], compoundMap)"
   ]
  },
  {
   "cell_type": "markdown",
   "metadata": {},
   "source": [
    "... and for a recipe:"
   ]
  },
  {
   "cell_type": "code",
   "execution_count": null,
   "metadata": {},
   "outputs": [],
   "source": [
    "recipe = cuisine_recipes[\"Russian\"][0][0]\n",
    "print(\"'%s': %.2f\" % (recipe[\"name\"], nsc(recipe[\"ingredients\"], compoundMap)) )"
   ]
  },
  {
   "cell_type": "markdown",
   "metadata": {},
   "source": [
    "##### Shared compounds of randomly generated recipes\n",
    "We calculate the distribution of number of shared components for random recipes and see how it compares to a real set of recipes. This can then be used to determine the significance of a cuisines number of shared compounds.\n",
    "\n",
    "Given a cuisine $c$ with $N_c$ recipes, the mean number of shared compoounds $N_s$ is given by\n",
    "\n",
    "$$ N_s = \\sum_R \\frac{N_s(R)}{N_c} $$\n",
    "\n",
    "We can use this to measure the significance of a cuisines mean number of shared compounds through the metric $\\Delta N_s = N_{s}^{c} - N_{s}^{rand}$. This metric can also be used to calculate a Z-score and determine statistical significance."
   ]
  },
  {
   "cell_type": "code",
   "execution_count": null,
   "metadata": {},
   "outputs": [],
   "source": [
    "def getNumSharedCompounds(recipes, title):\n",
    "    NsScores = [nsc(recipe[\"ingredients\"], compoundMap) for recipe in recipes]\n",
    "\n",
    "    plt.title(title)\n",
    "    plt.xlabel(\"Number of Shared Compounds\")\n",
    "    plt.ylabel(\"Occurances\")\n",
    "    plt.hist(NsScores, bins=50, color=\"#2e8b57\")\n",
    "    plt.vlines(stats.tmean(NsScores), 0, plt.gca().get_ylim()[1], colors=\"r\", label=\"Mean\")\n",
    "    plt.legend()\n",
    "    plt.show()\n",
    "\n",
    "    print(\"mean={}\".format(stats.tmean(NsScores)))\n",
    "    print(\"stddev={}\".format(stats.tstd(NsScores)))\n",
    "    print(\"range=({}, {})\".format(min(NsScores), max(NsScores)))\n",
    "\n",
    "    Ns = stats.tmean(NsScores)\n",
    "    return Ns, NsScores\n",
    "\n",
    "NsRandAndScores = [[getNumSharedCompounds(null_model, cuisine_name + \" \" + model_names[index] + \" Random Recipes\")\n",
    "                   for index, null_model in enumerate(null_models[cuisine_index])]\n",
    "                for cuisine_index, cuisine_name in enumerate(cuisine_recipes.keys())]"
   ]
  },
  {
   "cell_type": "markdown",
   "metadata": {},
   "source": [
    "##### Shared Compounds of recipe dataset"
   ]
  },
  {
   "cell_type": "code",
   "execution_count": null,
   "metadata": {},
   "outputs": [],
   "source": [
    "NsCuisines = {cuisine_name: getNumSharedCompounds(data[0], cuisine_name + \" $N_s$\")\n",
    "              for cuisine_name, data in cuisine_recipes.items()}"
   ]
  },
  {
   "cell_type": "markdown",
   "metadata": {},
   "source": [
    "##### The Stats\n",
    "It is now possible to calculate the marginal number of shared components for the russian cuisine.\n",
    "\n",
    "Assuming random recipes are normally distributed* it is then also possible to calculate a Z-score for the cuisine.\n",
    "\n",
    "*See report for discussion or errors and justification"
   ]
  },
  {
   "cell_type": "code",
   "execution_count": null,
   "metadata": {},
   "outputs": [],
   "source": [
    "def getZScore(cuisineName, NsCuisine, null_model_name, NsRandAndScores):\n",
    "    # Get Z-Score\n",
    "    NsRand, NsRandScores = NsRandAndScores\n",
    "    deltaNsCuisine = NsCuisine - NsRand\n",
    "    zCuisine = deltaNsCuisine / stats.tstd(NsRandScores)\n",
    "\n",
    "    print(\"deltaNs(%s on %s)=%f\" % (cuisine_name, null_model_name + \" Model\",\n",
    "                                    deltaNsCuisine))\n",
    "    print(zCuisine)\n",
    "    print(\"Z-score=%f\" % (zCuisine))\n",
    "\n",
    "    #show graphically\n",
    "    NsRandScores = NsRandAndScores[1]\n",
    "    plt.figure(figsize=(12, 4))\n",
    "    plt.subplot(1, 2, 1)\n",
    "    plt.title(\"Distributions of $N_s$ for %s Random Recipes\" % (null_model_name))\n",
    "    plt.xlabel(\"Number of Shared Compounds, $N_s$\")\n",
    "    plt.ylabel(\"P($N_s$)\")\n",
    "    plt.hist(NsRandScores, bins=50, weights=(1/len(NsRandScores))*np.ones_like(NsRandScores), color=\"#2e8b57\")\n",
    "    ylim = plt.gca().get_ylim()[1]\n",
    "    plt.vlines(stats.tmean(NsRandScores), 0, ylim, colors=\"r\", label=\"Random Recipe Mean\")\n",
    "    plt.vlines(NsCuisine, 0, ylim, colors=\"b\", label=cuisineName)\n",
    "    plt.legend()\n",
    "    plt.show()\n",
    "    \n",
    "    return zCuisine\n",
    "    \n",
    "zScores = [[getZScore(cuisine_name, NsCuisines[cuisine_name][0], \\\n",
    "            model_names[model_index], NsRandAndScores[cuisine_index][model_index])\n",
    "  for model_index, model in enumerate(null_models[cuisine_index])]\n",
    " for cuisine_index, cuisine_name in enumerate(cuisine_recipes.keys())]"
   ]
  },
  {
   "cell_type": "code",
   "execution_count": null,
   "metadata": {},
   "outputs": [],
   "source": [
    "random.seed(\"seeeeeeed\")\n",
    "\n",
    "def randomColour():\n",
    "    return \"#\"  + \"\".join([random.choice(\"0123456789ABCDEF\") for halfbyte in range(6)])\n",
    "\n",
    "## Plot Z-Scores Groups By Null Model\n",
    "cuisine_name_list = world_cuisine_list + [\"Russian\"]\n",
    "cuisine_colour_list = [randomColour() for cuisine in cuisine_name_list]\n",
    "null_model_zscores = list(zip(*zScores)) # Group Z-Scores by Null Model\n",
    "for model_index, cuisine_zscores in enumerate(null_model_zscores):\n",
    "    #show graphically\n",
    "    plt.figure(figsize=(12, 4))\n",
    "    plt.title(\"Z-Scores on %s Null Model by Cuisine\" % (model_names[model_index]))\n",
    "    plt.xlabel(\"Std. Devs. from Mean\")\n",
    "    plt.ylabel(\"Z\")\n",
    "\n",
    "    xx = np.linspace(-4, 4, 100)\n",
    "    plt.plot(xx, stats.norm.pdf(xx, loc=0, scale=1), color=\"k\", lw=2)\n",
    "\n",
    "    ylim = plt.gca().get_ylim()[1]\n",
    "    plt.vlines(0, 0, stats.norm.pdf(0, loc=0, scale=1), linestyles=\"dotted\", colors=\"#aaaaaa\")\n",
    "    for cuisine_index, zCuisine in enumerate(cuisine_zscores):\n",
    "        plt.vlines(zCuisine, 0, ylim, colors=cuisine_colour_list[cuisine_index], \\\n",
    "                   label=cuisine_name_list[cuisine_index])\n",
    "    plt.legend()\n",
    "    plt.show()"
   ]
  },
  {
   "cell_type": "markdown",
   "metadata": {},
   "source": [
    "### Authenticity\n",
    "The authenticity of an ingredient $i$ in a cuisine $c$ can be determined from its prevalence $P_i^c$, where $P_i^c$ is the proportion of recipes from $c$ which contain $i$:\n",
    "\n",
    "$$P_i^c = \\frac{\\textrm{no. recipes in }c\\textrm{ containing }i}{\\textrm{no. recipes in }c} = \\frac{n_i^c}{N_i^c} $$\n",
    "\n",
    "The authenticity $p_i^c$ is defined as the difference between the prevalence for c and the average prevalence for all other cuisines:\n",
    "\n",
    "$$ p_i^c = P_i^c - \\left\\langle P_i^{c'} \\right\\rangle_{c' \\neq c}$$\n",
    "\n",
    "The authenticity of ingredient pairs $p_{ij}^c$ and triplets $p_{ijk}^c$ can be determined similarly."
   ]
  },
  {
   "cell_type": "code",
   "execution_count": null,
   "metadata": {},
   "outputs": [],
   "source": [
    "# Calculates the mean of an interable. Empty collections are deemed to have an average of 0.\n",
    "def mean(array):\n",
    "    if len(array) == 0:\n",
    "        return 0\n",
    "    return sum(array) / len(array)"
   ]
  },
  {
   "cell_type": "code",
   "execution_count": null,
   "metadata": {},
   "outputs": [],
   "source": [
    "#Calculate the prevalence of a cuisine\n",
    "def prevalence(cuisine_recipes, size):\n",
    "    prevalence_cuisine = dict()\n",
    "    for cuisine_name, data in cuisine_recipes.items():\n",
    "        # Get number of recipes containing some ingredient combination\n",
    "        if cuisine_name not in prevalence_cuisine:\n",
    "            prevalence_cuisine[cuisine_name] = dict()\n",
    "        for recipe in data[0]:\n",
    "            if len(recipe[\"ingredients\"]) >= size:\n",
    "                combinations = itertools.combinations(recipe[\"ingredients\"], size)\n",
    "                for combination in combinations:\n",
    "                    if tuple(sorted(combination)) not in prevalence_cuisine[cuisine_name]:\n",
    "                        prevalence_cuisine[cuisine_name][tuple(sorted(combination))] = 0\n",
    "                    prevalence_cuisine[cuisine_name][tuple(sorted(combination))] += 1\n",
    "        # Divide by number of recipes\n",
    "        prevalence_cuisine[cuisine_name] = {combination: prevalence_cuisine[cuisine_name][combination] / len(data[0])\n",
    "                                            for combination in prevalence_cuisine[cuisine_name]}\n",
    "    return prevalence_cuisine"
   ]
  },
  {
   "cell_type": "code",
   "execution_count": null,
   "metadata": {},
   "outputs": [],
   "source": [
    "# returns the the authenticity of a groups of ingredients with size 'size'\n",
    "def authenticity(cuisine_recipes, size):\n",
    "    prevalence_cuisine = prevalence(cuisine_recipes, size)\n",
    "    authenticity_cuisine = {cuisine_name: {combination: prevalence_cuisine[cuisine_name][combination]\n",
    "                                          - mean([prevalence_cuisine[other_cuisine_name][combination]\n",
    "                                          for other_cuisine_name in cuisine_recipes.keys()\n",
    "                                              if other_cuisine_name != cuisine_name\n",
    "                                              and combination in prevalence_cuisine[other_cuisine_name]])\n",
    "                                          for combination in prevalence_cuisine[cuisine_name]}\n",
    "                                          for cuisine_name in cuisine_recipes.keys()}\n",
    "    return authenticity_cuisine"
   ]
  },
  {
   "cell_type": "markdown",
   "metadata": {},
   "source": [
    "Lets put all the above to the test and calculate the most authentic groups ingredients for each cuisine. We will find the most authentic ingredients, ingredient pairs, ingredient triples and even ingredient quadruples *(which was not featured in the original paper)*"
   ]
  },
  {
   "cell_type": "code",
   "execution_count": null,
   "metadata": {},
   "outputs": [],
   "source": [
    "for size in range(4):\n",
    "    print(\"Finding Most Authentic Combination of %d Ingredients Per Cuisine:\" % (size+1))\n",
    "    authenticity_cuisine = authenticity(cuisine_recipes, size+1)\n",
    "    for cuisine_name in cuisine_recipes.keys():\n",
    "        print(\"%s: \" % (cuisine_name))\n",
    "        print(sorted(authenticity_cuisine[cuisine_name], key=lambda combin: authenticity_cuisine[cuisine_name][combin], reverse=True)[:6])\n",
    "        print()\n",
    "    print()"
   ]
  }
 ],
 "metadata": {
  "kernelspec": {
   "display_name": "Python 3",
   "language": "python",
   "name": "python3"
  },
  "language_info": {
   "codemirror_mode": {
    "name": "ipython",
    "version": 3
   },
   "file_extension": ".py",
   "mimetype": "text/x-python",
   "name": "python",
   "nbconvert_exporter": "python",
   "pygments_lexer": "ipython3",
   "version": "3.7.6"
  }
 },
 "nbformat": 4,
 "nbformat_minor": 4
}
