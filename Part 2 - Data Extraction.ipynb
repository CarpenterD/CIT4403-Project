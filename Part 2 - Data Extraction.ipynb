{
 "cells": [
  {
   "cell_type": "markdown",
   "metadata": {},
   "source": [
    "## CITS4403 Project Notebook 2\n",
    "### FooDB data extraction\n",
    "The following code is an example of how fooDB was used to extract the information we used to unify our datasets and create all the necessary mappings for the ingredients to properly create the networks."
   ]
  },
  {
   "cell_type": "code",
   "execution_count": null,
   "metadata": {},
   "outputs": [],
   "source": [
    "import json\n",
    "import pandas\n",
    "import random\n",
    "\n",
    "random.seed(0)\n",
    "\n",
    "# Input Files\n",
    "PATH = \"data/foodb_2020_04_07_csv/\"\n",
    "contentsFileName = PATH + \"Content.csv\"\n",
    "ingredientFileName = PATH + \"Food.csv\"\n",
    "compoundFileName = PATH + \"Compound.csv\"\n",
    "\n",
    "# Output Files\n",
    "adjListFilePath = \"data/compounds/compounds.json\"\n",
    "ingredientListFilePath = \"data/notebook-3-data/ingredients.json\"\n",
    "nameMapFilePath = \"data/notebook-3-data/common-names.json\"\n",
    "CategoryListFilePath = \"data/categoryList.json\"\n",
    "CategoryMapFilePath = \"data/categoryMap.json\"\n",
    "subCategorySetFilePath = \"data/subCategorySet.json\"\n",
    "subCategoryMapFilePath = \"data/subCategoryMap.json\"\n",
    "colourMapFilePath = \"data/colourMap.json\"\n",
    "catColourMapFilePath = \"data/catColourMap.json\"\n",
    "fullColourMapFilePath = \"data/fullColourMap.json\""
   ]
  },
  {
   "cell_type": "markdown",
   "metadata": {},
   "source": [
    "To deal with the database, we need to be able to map between ingredient ids and ingredient names. "
   ]
  },
  {
   "cell_type": "code",
   "execution_count": null,
   "metadata": {},
   "outputs": [],
   "source": [
    "# extract list of all ingredient names\n",
    "with open(ingredientFileName) as ingredientFile:\n",
    "    ingredientData = pandas.read_csv(ingredientFile, low_memory=False)\n",
    "    ingredientMap = {ingredient[\"id\"]:ingredient[\"name\"] for index, ingredient in ingredientData.iterrows()}\n",
    "print(ingredientData)"
   ]
  },
  {
   "cell_type": "markdown",
   "metadata": {},
   "source": [
    "Similarly, we need to be able to map between compound ids and compound names. "
   ]
  },
  {
   "cell_type": "code",
   "execution_count": null,
   "metadata": {},
   "outputs": [],
   "source": [
    "with open(compoundFileName) as compoundFile:\n",
    "    compoundData = pandas.read_csv(compoundFile, low_memory=False)\n",
    "    compoundMap = {compound[\"id\"]:compound[\"name\"] for index, compound in compoundData.iterrows()}\n",
    "print(compoundData)"
   ]
  },
  {
   "cell_type": "markdown",
   "metadata": {},
   "source": [
    "Fetching the fooDB subcategory list json file to use as ingredient categories.\n",
    "\n",
    "The FooDB categories were not specific enough, for example the categories do not differentiate between vegetables and mushrooms whereas the subscategories do differentiate."
   ]
  },
  {
   "cell_type": "code",
   "execution_count": null,
   "metadata": {},
   "outputs": [],
   "source": [
    "subCategorySet = list(set([entry[\"food_subgroup\"] for index, entry in ingredientData.iterrows()]))\n",
    "with open(subCategorySetFilePath, \"w\") as outSubCategorySetFile:\n",
    "    json.dump(subCategorySet, outSubCategorySetFile)"
   ]
  },
  {
   "cell_type": "markdown",
   "metadata": {},
   "source": [
    "Creating the sub-category mapping json to determine ingredient categories."
   ]
  },
  {
   "cell_type": "code",
   "execution_count": null,
   "metadata": {},
   "outputs": [],
   "source": [
    "# Create Sub-Category Map\n",
    "subCategoryMap ={entry[\"name\"]:entry[\"food_subgroup\"] for index, entry in ingredientData.iterrows()}\n",
    "with open(subCategoryMapFilePath, \"w\") as outSubCategoryMapFile:\n",
    "    json.dump(subCategoryMap, outSubCategoryMapFile)"
   ]
  },
  {
   "cell_type": "markdown",
   "metadata": {},
   "source": [
    "Creating a category to colour map to be used in the visualization notebook."
   ]
  },
  {
   "cell_type": "code",
   "execution_count": null,
   "metadata": {},
   "outputs": [],
   "source": [
    "def random_colour():\n",
    "    return \"#\"  + \"\".join([random.choice(\"0123456789ABCDEF\") for halfbyte in range(6)])\n",
    "\n",
    "colourMap = {subCategory:random_colour() for subCategory in subCategorySet}\n",
    "with open(catColourMapFilePath, \"w\") as outCatColourMapFile:\n",
    "    json.dump(colourMap, outCatColourMapFile)\n",
    "\n",
    "foodColourMap = {entry[\"name\"]:colourMap[entry[\"food_subgroup\"]] for index, entry in ingredientData.iterrows()}\n",
    "with open(colourMapFilePath, \"w\") as outColourMapFile:\n",
    "    json.dump(foodColourMap, outColourMapFile)\n",
    "\n",
    "colourMap.update(foodColourMap)\n",
    "with open(fullColourMapFilePath, \"w\") as outColourMapFile:\n",
    "    json.dump(colourMap, outColourMapFile)"
   ]
  },
  {
   "cell_type": "markdown",
   "metadata": {},
   "source": [
    "Create Ingredient to Compound Mapping to determine ingredient compounds\n",
    "\n",
    "**This can take several minutes - it generates 150mb of data**"
   ]
  },
  {
   "cell_type": "code",
   "execution_count": null,
   "metadata": {},
   "outputs": [],
   "source": [
    "# Map Ingredient ID <-> Compound IDs Edge List\n",
    "with open(contentsFileName) as inFile:\n",
    "    contentsData = pandas.read_csv(inFile, low_memory=False)\n",
    "print(contentsData)\n",
    "\n",
    "edgeList = [(row[\"food_id\"], compoundMap[row[\"source_id\"]])\n",
    "            for index, row in contentsData.iterrows()\n",
    "            if row[\"source_type\"] == \"Compound\" and row[\"source_id\"] in compoundMap]\n",
    "\n",
    "# Create Adjacency List\n",
    "adjList = dict()\n",
    "for edge in edgeList:\n",
    "    if not edge[0] in ingredientMap:\n",
    "        print(\"Could not find food in map\", edge)\n",
    "        continue\n",
    "\n",
    "    ingrName = ingredientMap[edge[0]]\n",
    "    if (ingrName in adjList):\n",
    "        adjList[ingrName].append(edge[1])\n",
    "    else:\n",
    "        adjList[ingrName] = [edge[1]]\n",
    "    \n",
    "# Write Out Adjacency List\n",
    "with open(adjListFilePath, \"w\") as outAdjList:\n",
    "    json.dump(adjList, outAdjList)"
   ]
  },
  {
   "cell_type": "markdown",
   "metadata": {},
   "source": [
    "Create Default Common Ingredient Name to FooDB Ingredient Name Mapping for Database Matching in Notebook 3\n",
    "\n",
    "**This can take several minutes**"
   ]
  },
  {
   "cell_type": "code",
   "execution_count": null,
   "metadata": {},
   "outputs": [],
   "source": [
    "## Create Default Mapping\n",
    "nameMap = {entry[\"orig_food_common_name\"]:ingredientMap[entry[\"food_id\"]]\n",
    "           for index, entry in contentsData.iterrows()\n",
    "           if entry[\"food_id\"] in ingredientMap and entry[\"source_id\"] in compoundMap}\n",
    "with open(nameMapFilePath, \"w\") as outNameFile:\n",
    "    json.dump(nameMap, outNameFile)"
   ]
  },
  {
   "cell_type": "code",
   "execution_count": null,
   "metadata": {},
   "outputs": [],
   "source": []
  }
 ],
 "metadata": {
  "kernelspec": {
   "display_name": "Python 3",
   "language": "python",
   "name": "python3"
  },
  "language_info": {
   "codemirror_mode": {
    "name": "ipython",
    "version": 3
   },
   "file_extension": ".py",
   "mimetype": "text/x-python",
   "name": "python",
   "nbconvert_exporter": "python",
   "pygments_lexer": "ipython3",
   "version": "3.7.6"
  }
 },
 "nbformat": 4,
 "nbformat_minor": 4
}
